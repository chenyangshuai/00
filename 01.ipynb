{
 "cells": [
  {
   "cell_type": "code",
   "execution_count": 19,
   "metadata": {},
   "outputs": [
    {
     "name": "stdout",
     "output_type": "stream",
     "text": [
      "[10, 8]\n"
     ]
    }
   ],
   "source": [
    "arr=[1,2,3,4,5,6,7,8,9,10]\n",
    "print(arr[:5:-2])"
   ]
  },
  {
   "cell_type": "code",
   "execution_count": 20,
   "metadata": {},
   "outputs": [
    {
     "name": "stdout",
     "output_type": "stream",
     "text": [
      "[9, 8, 7, 6, 5, 4, 3, 2, 1, 0]\n"
     ]
    }
   ],
   "source": [
    "data = list(range(10))\n",
    "print(data[::-1])"
   ]
  },
  {
   "cell_type": "code",
   "execution_count": 21,
   "metadata": {},
   "outputs": [
    {
     "name": "stdout",
     "output_type": "stream",
     "text": [
      "[1, 2, 3, 4, 5, 6, 7]\n"
     ]
    }
   ],
   "source": [
    "#Получите массив без первого и двух последних элементов:\n",
    "data = list(range(10))\n",
    "print(data[1:8:1])"
   ]
  },
  {
   "cell_type": "code",
   "execution_count": 22,
   "metadata": {},
   "outputs": [],
   "source": [
    " import numpy as np"
   ]
  },
  {
   "cell_type": "code",
   "execution_count": 23,
   "metadata": {},
   "outputs": [],
   "source": [
    "arr_1d = np.array([1, 2, 3])"
   ]
  },
  {
   "cell_type": "code",
   "execution_count": 24,
   "metadata": {},
   "outputs": [
    {
     "name": "stdout",
     "output_type": "stream",
     "text": [
      "[1 2 3]\n",
      "<class 'numpy.ndarray'>\n",
      "(3,)\n",
      "1\n",
      "3\n",
      "3\n"
     ]
    }
   ],
   "source": [
    "print(arr_1d)\n",
    "print(type(arr_1d))\n",
    "print(arr_1d.shape)\n",
    "print(arr_1d[0])\n",
    "print(arr_1d[2])\n",
    "print(arr_1d[-1])"
   ]
  },
  {
   "cell_type": "code",
   "execution_count": 25,
   "metadata": {},
   "outputs": [
    {
     "name": "stdout",
     "output_type": "stream",
     "text": [
      "[[7 9 7 0 8 5]\n",
      " [2 4 9 7 4 5]\n",
      " [9 3 3 7 1 2]\n",
      " [1 1 9 8 7 5]\n",
      " [3 5 2 8 0 5]]\n"
     ]
    }
   ],
   "source": [
    "data = np.random.randint(low=0, high=10, size=(5, 6))\n",
    "print(data)"
   ]
  },
  {
   "cell_type": "code",
   "execution_count": 26,
   "metadata": {},
   "outputs": [
    {
     "name": "stdout",
     "output_type": "stream",
     "text": [
      "[[3 3 9 4 8 5]\n",
      " [5 0 1 6 3 3]\n",
      " [2 3 1 7 5 7]]\n"
     ]
    }
   ],
   "source": [
    "data = np.random.randint(low=0, high=10, size=(3, 6))\n",
    "print(data)"
   ]
  },
  {
   "cell_type": "code",
   "execution_count": 30,
   "metadata": {},
   "outputs": [
    {
     "name": "stdout",
     "output_type": "stream",
     "text": [
      "[[9 2 3 4 0 8]\n",
      " [6 9 7 0 8 4]\n",
      " [7 0 1 0 1 4]]\n",
      "[[7 0 1 0 1 4]\n",
      " [9 2 3 4 0 8]\n",
      " [6 9 7 0 8 4]]\n"
     ]
    }
   ],
   "source": [
    "data = np.random.randint(low=0, high=10, size=(3, 6))\n",
    "print(data)\n",
    "a=np.random.permutation(data)\n",
    "print(a)"
   ]
  },
  {
   "cell_type": "code",
   "execution_count": 46,
   "metadata": {},
   "outputs": [
    {
     "name": "stdout",
     "output_type": "stream",
     "text": [
      "[[False False False False]\n",
      " [False  True  True False]\n",
      " [False False False False]]\n"
     ]
    }
   ],
   "source": [
    "#Определите, имеется ли хотя бы одно значение больше пяти и меньше восьми в массиве:\n",
    "#\n",
    "import numpy as np\n",
    "arr = np.array([[1, 2, 3, 4], [5, 6, 7, 8], [9, 10, 11, 12]])\n",
    "print((arr>5)&(arr<8))\n"
   ]
  },
  {
   "cell_type": "markdown",
   "metadata": {},
   "source": [
    "# Больше индексации"
   ]
  },
  {
   "cell_type": "code",
   "execution_count": 47,
   "metadata": {},
   "outputs": [
    {
     "name": "stdout",
     "output_type": "stream",
     "text": [
      "[[ 1  2  3  4]\n",
      " [ 5  6  7  8]\n",
      " [ 9 10 11 12]]\n"
     ]
    }
   ],
   "source": [
    "arr = np.array([[1, 2, 3, 4], [5, 6, 7, 8], [9, 10, 11, 12]])\n",
    "print(arr)"
   ]
  },
  {
   "cell_type": "code",
   "execution_count": 49,
   "metadata": {},
   "outputs": [
    {
     "name": "stdout",
     "output_type": "stream",
     "text": [
      "[[False False False False]\n",
      " [False False  True  True]\n",
      " [ True  True  True  True]]\n",
      "[ 7  8  9 10 11 12]\n"
     ]
    }
   ],
   "source": [
    "# Получим маску и воспользуемся ею для индексации\n",
    "mask = arr > 6\n",
    "print(mask)\n",
    "print(arr[mask])"
   ]
  },
  {
   "cell_type": "code",
   "execution_count": 50,
   "metadata": {},
   "outputs": [
    {
     "name": "stdout",
     "output_type": "stream",
     "text": [
      "[[1 2 3 4]\n",
      " [5 6 7 8]]\n",
      "[1 2 3 4 5 6 7 8]\n"
     ]
    }
   ],
   "source": [
    "arr = np.array([[1, 2, 3, 4], [5, 6, 7, 8]])\n",
    "print(arr)\n",
    "print(arr.flatten())"
   ]
  },
  {
   "cell_type": "code",
   "execution_count": 51,
   "metadata": {},
   "outputs": [
    {
     "name": "stdout",
     "output_type": "stream",
     "text": [
      "34\n"
     ]
    }
   ],
   "source": [
    "data = np.random.randint(low=0, high=5, size=(3, 6))\n",
    "print(np.sum(data))"
   ]
  },
  {
   "cell_type": "code",
   "execution_count": 54,
   "metadata": {},
   "outputs": [
    {
     "name": "stdout",
     "output_type": "stream",
     "text": [
      "[[0 1 2 3 4]\n",
      " [5 6 7 8 9]]\n",
      "[[ 0  1  2  3  4]\n",
      " [ 5  6  7  8  9]\n",
      " [10 11 12 13 14]]\n"
     ]
    }
   ],
   "source": [
    "x = np.arange(10).reshape((2, 5))\n",
    "y = np.arange(15).reshape((3, 5))\n",
    "\n",
    "print(x)\n",
    "print(y)"
   ]
  },
  {
   "cell_type": "code",
   "execution_count": 55,
   "metadata": {},
   "outputs": [
    {
     "name": "stdout",
     "output_type": "stream",
     "text": [
      "[[ 0  1  2  3  4]\n",
      " [ 5  6  7  8  9]\n",
      " [ 0  1  2  3  4]\n",
      " [ 5  6  7  8  9]\n",
      " [10 11 12 13 14]]\n"
     ]
    }
   ],
   "source": [
    "print(np.concatenate((x, y), axis=0))"
   ]
  },
  {
   "cell_type": "markdown",
   "metadata": {},
   "source": [
    "# Задание\n",
    "Объедините три массива вдоль колонок:# "
   ]
  },
  {
   "cell_type": "code",
   "execution_count": 53,
   "metadata": {},
   "outputs": [
    {
     "name": "stdout",
     "output_type": "stream",
     "text": [
      "[[ 0  1  2  0  1  2  3  0  1  2  3  4]\n",
      " [ 3  4  5  4  5  6  7  5  6  7  8  9]\n",
      " [ 6  7  8  8  9 10 11 10 11 12 13 14]]\n"
     ]
    }
   ],
   "source": [
    "x = np.arange(9).reshape((3, 3))\n",
    "y = np.arange(12).reshape((3, 4))\n",
    "z = np.arange(15).reshape((3, 5))\n",
    "\n",
    "print(np.concatenate((x, y,z), axis=1))\n",
    "\n",
    "# TODO - получите объединенный массив:\n",
    "# [[ 0  1  2  0  1  2  3  0  1  2  3  4]\n",
    "#  [ 3  4  5  4  5  6  7  5  6  7  8  9]\n",
    "#  [ 6  7  8  8  9 10 11 10 11 12 13 14]]"
   ]
  },
  {
   "cell_type": "code",
   "execution_count": 56,
   "metadata": {},
   "outputs": [
    {
     "name": "stdout",
     "output_type": "stream",
     "text": [
      "[[1. 1. 2. 3.]\n",
      " [1. 4. 5. 6.]\n",
      " [1. 7. 8. 9.]]\n"
     ]
    }
   ],
   "source": [
    "#Напишите реализацию добавления стобца единиц к матрице слева:\n",
    "#Напишите реализацию добавления стобца единиц к матрице слева:#\n",
    "x = np.arange(1, 10).reshape((3, 3))\n",
    "new_x = np.ones((3, 1))\n",
    "b = np.hstack([new_x, x])\n",
    "print(b)\n",
    "# TODO - получить матрицу со столбцом единиц слева\n",
    "# [[1 1 2 3]\n",
    "#  [1 4 5 6]\n",
    "#  [1 7 8 9]]"
   ]
  },
  {
   "cell_type": "markdown",
   "metadata": {},
   "source": [
    "По такому же принципу именования найдите функцию, которая возвращает индекс максимального/минимального (в завимости от варианта) элемента в массиве.\n",
    "\n",
    "Воспользуйтесь найденной функцией и найдите индексы максимальных элементов в каждом столбце 2D матрицы:# "
   ]
  },
  {
   "cell_type": "code",
   "execution_count": 57,
   "metadata": {},
   "outputs": [
    {
     "name": "stdout",
     "output_type": "stream",
     "text": [
      "[0 2 3 3 1]\n",
      "[2 0 1 1 0]\n"
     ]
    }
   ],
   "source": [
    "arr = np.array([\n",
    "    [11, -1, 1, 3, 5],\n",
    "    [6, 1, 0, -1, 10],\n",
    "    [1, 3, 2, 3, 6],\n",
    "    [5, 2, 7, 8, 9],\n",
    "])\n",
    "print(np.argmax(arr, axis=0)) \n",
    "print(np.argmin(arr, axis=0)) \n",
    "#   TODO   [0 2 3 3 1]/[2 0 1 1 0]#\n"
   ]
  },
  {
   "cell_type": "code",
   "execution_count": 84,
   "metadata": {},
   "outputs": [
    {
     "name": "stdout",
     "output_type": "stream",
     "text": [
      "[[11  2  1  3  5]\n",
      " [ 6  2  0 -1 10]\n",
      " [ 1  3  2  3  5]\n",
      " [ 5  2  7  8  9]]\n",
      "[[ 1  2  0 -1  5]\n",
      " [ 5  2  1  3  5]\n",
      " [ 6  2  2  3  9]\n",
      " [11  3  7  8 10]]\n"
     ]
    }
   ],
   "source": [
    "#Напишите код сортировки массива по столбцам:\n",
    "import numpy as np\n",
    "arr = np.array([\n",
    "    [11, 2, 1, 3, 5],\n",
    "    [6, 2, 0, -1, 10],\n",
    "    [1, 3, 2, 3, 5],\n",
    "    [5, 2, 7, 8, 9],\n",
    "])\n",
    "print(arr)\n",
    "new_arr=np.sort(arr,axis=0)\n",
    "print(new_arr)"
   ]
  },
  {
   "cell_type": "code",
   "execution_count": 83,
   "metadata": {},
   "outputs": [
    {
     "data": {
      "text/plain": [
       "array([[ -6,   7,   8,  -2, -10,   4,   1],\n",
       "       [  0,   8,  -6,  -7,  -8,  -5,  -5],\n",
       "       [ -4,  -3,   1,  -7,  -7,   4,  -3],\n",
       "       [ -9,   9,  -7,  -8,  -5,   4,  -7],\n",
       "       [  1,  -5,  -8,  -9,   5,  -9, -10]])"
      ]
     },
     "execution_count": 83,
     "metadata": {},
     "output_type": "execute_result"
    }
   ],
   "source": [
    "#Создайте массив, состоящий из случайных элементов в диапазоне $[-10; 20]$ размером $(5, 7)$:\n",
    "\n",
    "np.random.randint(-10, 10, size=(5, 7))\n"
   ]
  },
  {
   "cell_type": "code",
   "execution_count": 87,
   "metadata": {},
   "outputs": [
    {
     "name": "stdout",
     "output_type": "stream",
     "text": [
      "[[ 0  0  0  0  0  0  0]\n",
      " [ 0  1  2  3  4  5  0]\n",
      " [ 0  6  7  8  9 10  0]\n",
      " [ 0 11 12 13 14 15  0]\n",
      " [ 0  0  0  0  0  0  0]]\n"
     ]
    }
   ],
   "source": [
    "data = np.arange(1, 16).reshape((3, 5))\n",
    "data = np.pad(data, pad_width=1, mode='constant', constant_values=0)\n",
    "print(data)"
   ]
  },
  {
   "cell_type": "code",
   "execution_count": 88,
   "metadata": {},
   "outputs": [
    {
     "name": "stdout",
     "output_type": "stream",
     "text": [
      "[[2 2 3 4 5]\n",
      " [6 6 6 6 6]\n",
      " [6 6 6 6 6]]\n"
     ]
    }
   ],
   "source": [
    "#Разберитесь с функцией np.clip() \n",
    "#и произведите ограничение массива, \n",
    "#чтобы в нем значения были не более шести \n",
    "#и не менее двух:\n",
    "data = np.arange(1, 16).reshape((3, 5))\n",
    "data = np.clip(data, 2, 6)\n",
    "print(data)\n",
    "# TODO - ограничьте значения массива\n",
    "# [[2 2 3 4 5]\n",
    "#  [6 6 6 6 6]\n",
    "#  [6 6 6 6 6]]"
   ]
  },
  {
   "cell_type": "code",
   "execution_count": 107,
   "metadata": {},
   "outputs": [
    {
     "name": "stdout",
     "output_type": "stream",
     "text": [
      "[[ 1  2  4  8 16]\n",
      " [ 1  2  4  8 16]\n",
      " [ 1  2  4  8 16]]\n"
     ]
    }
   ],
   "source": [
    "data = np.full((3, 5), fill_value=2, dtype=np.int32)\n",
    "\n",
    "data1=np.arange(data.shape[1])\n",
    "data2=data**data1\n",
    "print(data2)"
   ]
  },
  {
   "cell_type": "code",
   "execution_count": 108,
   "metadata": {},
   "outputs": [
    {
     "name": "stdout",
     "output_type": "stream",
     "text": [
      "[[2 2 2 2 2]\n",
      " [2 2 2 2 2]\n",
      " [2 2 2 2 2]]\n",
      "[[0 2 4 6 8]\n",
      " [0 2 4 6 8]\n",
      " [0 2 4 6 8]]\n"
     ]
    }
   ],
   "source": [
    "#Умножьте каждую колонку на ее индекс:\n",
    "data = np.full((3, 5), fill_value=2, dtype=np.int32)\n",
    "print(data)\n",
    "data1=np.arange(data.shape[1])\n",
    "data2=data*data1\n",
    "print(data2)"
   ]
  },
  {
   "cell_type": "code",
   "execution_count": 93,
   "metadata": {},
   "outputs": [
    {
     "name": "stdout",
     "output_type": "stream",
     "text": [
      "[[1 1 1 1]\n",
      " [2 2 2 2]\n",
      " [3 3 3 3]\n",
      " [4 4 4 4]\n",
      " [5 5 5 5]\n",
      " [6 6 6 6]\n",
      " [7 7 7 7]]\n",
      "\n",
      "[[ 1  2  1  2]\n",
      " [ 2  2  2  2]\n",
      " [ 3  6  3  6]\n",
      " [ 4  4  4  4]\n",
      " [ 5 10  5 10]\n",
      " [ 6  6  6  6]\n",
      " [ 7 14  7 14]]\n"
     ]
    }
   ],
   "source": [
    "#Умножьте каждый четный ряд в матрице на вектор:\n",
    "import numpy as np\n",
    "data = np.repeat(np.arange(1, 8), 4).reshape(7, 4)\n",
    "vec = np.array([1, 2, 1, 2])\n",
    "print(data)\n",
    "print()\n",
    "for i in range(data.shape[0]):\n",
    "    if i%2==0:\n",
    "      data[i,:]=data[i,:]*vec\n",
    "print (data)"
   ]
  },
  {
   "cell_type": "code",
   "execution_count": 94,
   "metadata": {},
   "outputs": [
    {
     "name": "stdout",
     "output_type": "stream",
     "text": [
      "[[4 1]\n",
      " [1 2]\n",
      " [3 1]\n",
      " [5 3]]\n"
     ]
    }
   ],
   "source": [
    "#Определите индексы двух наибольших элементов в матрице по каждому ряду:\n",
    "data = np.array([[20, 22,  2, 14, 25,  8],\n",
    "                [ 7, 25, 23,  3, 22, 15],\n",
    "                [ 8, 16,  9, 22,  0,  9],\n",
    "                [ 4, 24, 24, 28,  3, 40]])\n",
    "idx = (-data).argsort()[:4]\n",
    "print(idx[:,[0,1]])\n",
    "# TODO - определите индексы двух наибольших элементов по каждому ряду\n",
    "# [[4 1]\n",
    "#  [1 2]\n",
    "#  [3 1]\n",
    "#  [5 3]]"
   ]
  },
  {
   "cell_type": "code",
   "execution_count": 96,
   "metadata": {},
   "outputs": [],
   "source": [
    "#Выберите две случайные колонки из массива:\n",
    "data = np.array([[20, 22,  2, 14, 25,  8],\n",
    "                [ 7, 25, 23,  3, 22, 15],\n",
    "                [ 8, 16,  9, 22,  0,  9],\n",
    "                [ 4, 24, 24, 28,  3, 40]])\n",
    "\n",
    "# TODO - выберите случайные две колонки из массива\n",
    "# *Например,\n",
    "# [[22  8]\n",
    "#  [25 15]\n",
    "#  [16  9]\n",
    "#  [24 40]]"
   ]
  },
  {
   "cell_type": "code",
   "execution_count": 99,
   "metadata": {},
   "outputs": [
    {
     "name": "stdout",
     "output_type": "stream",
     "text": [
      "[[0 1 2]\n",
      " [3 4 5]\n",
      " [6 7 8]\n",
      " [0 1 2]\n",
      " [3 4 5]\n",
      " [6 7 8]\n",
      " [0 1 2]\n",
      " [3 4 5]\n",
      " [6 7 8]]\n"
     ]
    }
   ],
   "source": [
    "#Создайте массив размером $(10, 3)$, который состоит из повторяющихся рядов исходного массива:\n",
    "data = np.arange(9).reshape(3, 3)\n",
    "data = np.tile(data,(3,1))\n",
    "print(data)\n",
    "# TODO - создайте массив из повторяющихся рядов размером (10, 3)"
   ]
  },
  {
   "cell_type": "code",
   "execution_count": 98,
   "metadata": {},
   "outputs": [
    {
     "name": "stdout",
     "output_type": "stream",
     "text": [
      "[23, 22]\n",
      "[9, 0]\n",
      "[33, 7]\n"
     ]
    }
   ],
   "source": [
    "#Соберите массив, состоящий из элементов 2й и 4й колонок и строк с 1й по 3ю\n",
    "data = np.array([[20, 22,  2, 14, 25,  8],\n",
    "                [ 7, 25, 23,  3, 22, 15],\n",
    "                [ 8, 16,  9, 22,  0,  9],\n",
    "                [ 14, 9,  33, 21,  7,  6],\n",
    "                [ 4, 24, 24, 28,  3, 40]])\n",
    "print([data[1,2],data[1,4]])\n",
    "print([data[2,2],data[2,4]])\n",
    "print([data[3,2],data[3,4]])\n",
    "\n",
    "\n",
    "# TODO - соберите матрицу из конкретных элементов массива\n",
    "# [[23 22]\n",
    "#  [ 9  0]\n",
    "#  [33  7]]"
   ]
  },
  {
   "cell_type": "code",
   "execution_count": 97,
   "metadata": {},
   "outputs": [
    {
     "name": "stdout",
     "output_type": "stream",
     "text": [
      "[[20 22  2 14  3 40]\n",
      " [ 7 25 23  3  7  6]\n",
      " [ 8 16  9 22  0  9]\n",
      " [14  9 33 21 22 15]\n",
      " [ 4 24 24 28 25  8]]\n"
     ]
    }
   ],
   "source": [
    "#Инвертируйте порядок элементов в последних двух колонках:\n",
    "import numpy as np\n",
    "data = np.array([[20, 22,  2, 14, 25,  8],\n",
    "                [ 7, 25, 23,  3, 22, 15],\n",
    "                [ 8, 16,  9, 22,  0,  9],\n",
    "                [ 14, 9,  33, 21,  7,  6],\n",
    "                [ 4, 24, 24, 28,  3, 40]])\n",
    "b = data[:, [-2, -1]]\n",
    "you = np.flipud(b)\n",
    "zuo = np.delete(data, [4,5], axis=1)\n",
    "print(np.hstack((zuo,you)))\n",
    "\n",
    "\n",
    "# TODO - инвертируйте порядок последних двух колонок\n",
    "# [[20 22  2 14  3 40]\n",
    "#  [ 7 25 23  3  7  6]\n",
    "#  [ 8 16  9 22  0  9]\n",
    "#  [14  9 33 21 22 15]\n",
    "#  [ 4 24 24 28 25  8]]"
   ]
  },
  {
   "cell_type": "code",
   "execution_count": null,
   "metadata": {},
   "outputs": [],
   "source": []
  }
 ],
 "metadata": {
  "kernelspec": {
   "display_name": "Python 3",
   "language": "python",
   "name": "python3"
  },
  "language_info": {
   "codemirror_mode": {
    "name": "ipython",
    "version": 3
   },
   "file_extension": ".py",
   "mimetype": "text/x-python",
   "name": "python",
   "nbconvert_exporter": "python",
   "pygments_lexer": "ipython3",
   "version": "3.8.5"
  }
 },
 "nbformat": 4,
 "nbformat_minor": 4
}
